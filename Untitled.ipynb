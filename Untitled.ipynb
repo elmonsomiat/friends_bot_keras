{
 "cells": [
  {
   "cell_type": "code",
   "execution_count": 1,
   "metadata": {},
   "outputs": [],
   "source": [
    "import numpy as np\n",
    "import pandas as pd"
   ]
  },
  {
   "cell_type": "code",
   "execution_count": 2,
   "metadata": {},
   "outputs": [],
   "source": [
    "file = open('1.txt', 'r',encoding= 'utf-8') \n",
    "a = file.read() "
   ]
  },
  {
   "cell_type": "code",
   "execution_count": 70,
   "metadata": {},
   "outputs": [
    {
     "ename": "SyntaxError",
     "evalue": "invalid syntax (<ipython-input-70-4759cc30c3a9>, line 1)",
     "output_type": "error",
     "traceback": [
      "\u001b[0;36m  File \u001b[0;32m\"<ipython-input-70-4759cc30c3a9>\"\u001b[0;36m, line \u001b[0;32m1\u001b[0m\n\u001b[0;31m    ^\\w{,8}:\u001b[0m\n\u001b[0m    ^\u001b[0m\n\u001b[0;31mSyntaxError\u001b[0m\u001b[0;31m:\u001b[0m invalid syntax\n"
     ]
    }
   ],
   "source": [
    "^\\w{,8}:"
   ]
  },
  {
   "cell_type": "code",
   "execution_count": 75,
   "metadata": {},
   "outputs": [],
   "source": [
    "df = pd.DataFrame(a.split('\\n'), columns=['dialogue'])\n",
    "df.dialogue = df.dialogue.astype(str)"
   ]
  },
  {
   "cell_type": "code",
   "execution_count": null,
   "metadata": {},
   "outputs": [],
   "source": []
  },
  {
   "cell_type": "code",
   "execution_count": 77,
   "metadata": {},
   "outputs": [],
   "source": [
    "import re\n",
    "\n",
    "def delete_blank(x):\n",
    "    if x=='':\n",
    "        return None\n",
    "    else:\n",
    "        return x\n",
    "df.dialogue = df.dialogue.map(delete_blank)"
   ]
  },
  {
   "cell_type": "code",
   "execution_count": 79,
   "metadata": {},
   "outputs": [],
   "source": [
    "df = df.dropna().reset_index(drop=True)"
   ]
  },
  {
   "cell_type": "code",
   "execution_count": 80,
   "metadata": {},
   "outputs": [],
   "source": [
    "def delete_parentheses(x):\n",
    "    return re.sub(r'\\(.*\\)|\\[.*\\]', 'delete', x)\n",
    "\n",
    "\n"
   ]
  },
  {
   "cell_type": "code",
   "execution_count": 82,
   "metadata": {},
   "outputs": [],
   "source": [
    "df.dialogue = df.dialogue.map(lambda x: delete_parentheses(x))"
   ]
  },
  {
   "cell_type": "code",
   "execution_count": 83,
   "metadata": {},
   "outputs": [],
   "source": [
    "df = df[df.dialogue!='delete'].reset_index(drop=True)"
   ]
  },
  {
   "cell_type": "code",
   "execution_count": 86,
   "metadata": {},
   "outputs": [],
   "source": [
    "def loadGloveModel(gloveFile):\n",
    "    print(\"Loading Glove Model\")\n",
    "    f = open(gloveFile,'r')\n",
    "    model = {}\n",
    "    for line in f:\n",
    "        splitLine = line.split()\n",
    "        word = splitLine[0]\n",
    "        embedding = np.array([float(val) for val in splitLine[1:]])\n",
    "        model[word] = embedding\n",
    "    print( \"Done.\",len(model),\" words loaded!\")\n",
    "    return model"
   ]
  },
  {
   "cell_type": "code",
   "execution_count": 88,
   "metadata": {},
   "outputs": [
    {
     "name": "stdout",
     "output_type": "stream",
     "text": [
      "Loading Glove Model\n",
      "Done. 400000  words loaded!\n"
     ]
    }
   ],
   "source": [
    "model_glove = loadGloveModel('../glove/glove.6B.100d.txt')"
   ]
  },
  {
   "cell_type": "code",
   "execution_count": 89,
   "metadata": {},
   "outputs": [],
   "source": [
    "glove_df = pd.DataFrame(model_glove).T"
   ]
  },
  {
   "cell_type": "code",
   "execution_count": 92,
   "metadata": {},
   "outputs": [],
   "source": [
    "unk_pad_df = pd.DataFrame(columns=glove_df.columns)\n",
    "unk_pad_df.loc['<PAD>'] = np.zeros(glove_df.shape[1])\n",
    "unk_pad_df.loc['<UNK>'] = glove_df.mean()"
   ]
  },
  {
   "cell_type": "code",
   "execution_count": 93,
   "metadata": {},
   "outputs": [],
   "source": [
    "glove_unk_df = pd.concat([unk_pad_df,glove_df])"
   ]
  },
  {
   "cell_type": "code",
   "execution_count": 95,
   "metadata": {},
   "outputs": [
    {
     "data": {
      "text/html": [
       "<div>\n",
       "<style scoped>\n",
       "    .dataframe tbody tr th:only-of-type {\n",
       "        vertical-align: middle;\n",
       "    }\n",
       "\n",
       "    .dataframe tbody tr th {\n",
       "        vertical-align: top;\n",
       "    }\n",
       "\n",
       "    .dataframe thead th {\n",
       "        text-align: right;\n",
       "    }\n",
       "</style>\n",
       "<table border=\"1\" class=\"dataframe\">\n",
       "  <thead>\n",
       "    <tr style=\"text-align: right;\">\n",
       "      <th></th>\n",
       "      <th>0</th>\n",
       "      <th>1</th>\n",
       "      <th>2</th>\n",
       "      <th>3</th>\n",
       "      <th>4</th>\n",
       "      <th>5</th>\n",
       "      <th>6</th>\n",
       "      <th>7</th>\n",
       "      <th>8</th>\n",
       "      <th>9</th>\n",
       "      <th>...</th>\n",
       "      <th>90</th>\n",
       "      <th>91</th>\n",
       "      <th>92</th>\n",
       "      <th>93</th>\n",
       "      <th>94</th>\n",
       "      <th>95</th>\n",
       "      <th>96</th>\n",
       "      <th>97</th>\n",
       "      <th>98</th>\n",
       "      <th>99</th>\n",
       "    </tr>\n",
       "  </thead>\n",
       "  <tbody>\n",
       "    <tr>\n",
       "      <th>&lt;PAD&gt;</th>\n",
       "      <td>0.000000</td>\n",
       "      <td>0.000000</td>\n",
       "      <td>0.000000</td>\n",
       "      <td>0.000000</td>\n",
       "      <td>0.000000</td>\n",
       "      <td>0.000000</td>\n",
       "      <td>0.000000</td>\n",
       "      <td>0.000000</td>\n",
       "      <td>0.000000</td>\n",
       "      <td>0.000000</td>\n",
       "      <td>...</td>\n",
       "      <td>0.000000</td>\n",
       "      <td>0.000000</td>\n",
       "      <td>0.000000</td>\n",
       "      <td>0.00000</td>\n",
       "      <td>0.000000</td>\n",
       "      <td>0.000000</td>\n",
       "      <td>0.000000</td>\n",
       "      <td>0.000000</td>\n",
       "      <td>0.000000</td>\n",
       "      <td>0.000000</td>\n",
       "    </tr>\n",
       "    <tr>\n",
       "      <th>&lt;UNK&gt;</th>\n",
       "      <td>0.052098</td>\n",
       "      <td>-0.097114</td>\n",
       "      <td>-0.138076</td>\n",
       "      <td>0.110753</td>\n",
       "      <td>-0.027228</td>\n",
       "      <td>-0.003264</td>\n",
       "      <td>0.031764</td>\n",
       "      <td>-0.050769</td>\n",
       "      <td>0.153216</td>\n",
       "      <td>-0.023674</td>\n",
       "      <td>...</td>\n",
       "      <td>0.016906</td>\n",
       "      <td>0.075768</td>\n",
       "      <td>0.075961</td>\n",
       "      <td>-0.10800</td>\n",
       "      <td>0.208303</td>\n",
       "      <td>-0.078413</td>\n",
       "      <td>0.086636</td>\n",
       "      <td>0.123813</td>\n",
       "      <td>-0.234345</td>\n",
       "      <td>-0.009255</td>\n",
       "    </tr>\n",
       "    <tr>\n",
       "      <th>!</th>\n",
       "      <td>0.384720</td>\n",
       "      <td>0.493510</td>\n",
       "      <td>0.490960</td>\n",
       "      <td>-1.543400</td>\n",
       "      <td>-0.336140</td>\n",
       "      <td>0.622200</td>\n",
       "      <td>0.322650</td>\n",
       "      <td>0.075331</td>\n",
       "      <td>0.655910</td>\n",
       "      <td>-0.235170</td>\n",
       "      <td>...</td>\n",
       "      <td>0.493040</td>\n",
       "      <td>-0.067002</td>\n",
       "      <td>0.502220</td>\n",
       "      <td>0.73959</td>\n",
       "      <td>-0.473500</td>\n",
       "      <td>-0.473420</td>\n",
       "      <td>-0.202420</td>\n",
       "      <td>0.026263</td>\n",
       "      <td>0.390520</td>\n",
       "      <td>0.522170</td>\n",
       "    </tr>\n",
       "    <tr>\n",
       "      <th>!!</th>\n",
       "      <td>0.226570</td>\n",
       "      <td>0.646510</td>\n",
       "      <td>0.848280</td>\n",
       "      <td>-0.687740</td>\n",
       "      <td>-0.760420</td>\n",
       "      <td>0.127500</td>\n",
       "      <td>0.721060</td>\n",
       "      <td>0.156900</td>\n",
       "      <td>-0.386420</td>\n",
       "      <td>1.710800</td>\n",
       "      <td>...</td>\n",
       "      <td>-0.973900</td>\n",
       "      <td>0.962550</td>\n",
       "      <td>0.561330</td>\n",
       "      <td>0.74162</td>\n",
       "      <td>0.115220</td>\n",
       "      <td>0.191420</td>\n",
       "      <td>-0.674920</td>\n",
       "      <td>0.547120</td>\n",
       "      <td>0.769700</td>\n",
       "      <td>0.350750</td>\n",
       "    </tr>\n",
       "    <tr>\n",
       "      <th>!!!</th>\n",
       "      <td>0.225410</td>\n",
       "      <td>0.267880</td>\n",
       "      <td>0.493480</td>\n",
       "      <td>-0.478710</td>\n",
       "      <td>-0.523270</td>\n",
       "      <td>0.597240</td>\n",
       "      <td>0.422010</td>\n",
       "      <td>-0.160110</td>\n",
       "      <td>0.738110</td>\n",
       "      <td>0.210680</td>\n",
       "      <td>...</td>\n",
       "      <td>-0.980150</td>\n",
       "      <td>0.307360</td>\n",
       "      <td>0.161440</td>\n",
       "      <td>0.25967</td>\n",
       "      <td>0.017757</td>\n",
       "      <td>-0.263490</td>\n",
       "      <td>0.699640</td>\n",
       "      <td>-0.121000</td>\n",
       "      <td>-0.102430</td>\n",
       "      <td>0.363660</td>\n",
       "    </tr>\n",
       "  </tbody>\n",
       "</table>\n",
       "<p>5 rows × 100 columns</p>\n",
       "</div>"
      ],
      "text/plain": [
       "             0         1         2         3         4         5         6   \\\n",
       "<PAD>  0.000000  0.000000  0.000000  0.000000  0.000000  0.000000  0.000000   \n",
       "<UNK>  0.052098 -0.097114 -0.138076  0.110753 -0.027228 -0.003264  0.031764   \n",
       "!      0.384720  0.493510  0.490960 -1.543400 -0.336140  0.622200  0.322650   \n",
       "!!     0.226570  0.646510  0.848280 -0.687740 -0.760420  0.127500  0.721060   \n",
       "!!!    0.225410  0.267880  0.493480 -0.478710 -0.523270  0.597240  0.422010   \n",
       "\n",
       "             7         8         9     ...           90        91        92  \\\n",
       "<PAD>  0.000000  0.000000  0.000000    ...     0.000000  0.000000  0.000000   \n",
       "<UNK> -0.050769  0.153216 -0.023674    ...     0.016906  0.075768  0.075961   \n",
       "!      0.075331  0.655910 -0.235170    ...     0.493040 -0.067002  0.502220   \n",
       "!!     0.156900 -0.386420  1.710800    ...    -0.973900  0.962550  0.561330   \n",
       "!!!   -0.160110  0.738110  0.210680    ...    -0.980150  0.307360  0.161440   \n",
       "\n",
       "            93        94        95        96        97        98        99  \n",
       "<PAD>  0.00000  0.000000  0.000000  0.000000  0.000000  0.000000  0.000000  \n",
       "<UNK> -0.10800  0.208303 -0.078413  0.086636  0.123813 -0.234345 -0.009255  \n",
       "!      0.73959 -0.473500 -0.473420 -0.202420  0.026263  0.390520  0.522170  \n",
       "!!     0.74162  0.115220  0.191420 -0.674920  0.547120  0.769700  0.350750  \n",
       "!!!    0.25967  0.017757 -0.263490  0.699640 -0.121000 -0.102430  0.363660  \n",
       "\n",
       "[5 rows x 100 columns]"
      ]
     },
     "execution_count": 95,
     "metadata": {},
     "output_type": "execute_result"
    }
   ],
   "source": [
    "glove_unk_df.head()"
   ]
  },
  {
   "cell_type": "code",
   "execution_count": null,
   "metadata": {},
   "outputs": [],
   "source": []
  }
 ],
 "metadata": {
  "kernelspec": {
   "display_name": "Python 3",
   "language": "python",
   "name": "python3"
  },
  "language_info": {
   "codemirror_mode": {
    "name": "ipython",
    "version": 3
   },
   "file_extension": ".py",
   "mimetype": "text/x-python",
   "name": "python",
   "nbconvert_exporter": "python",
   "pygments_lexer": "ipython3",
   "version": "3.5.2"
  }
 },
 "nbformat": 4,
 "nbformat_minor": 2
}
